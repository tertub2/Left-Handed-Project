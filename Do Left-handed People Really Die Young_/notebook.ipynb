{
 "cells": [
  {
   "cell_type": "markdown",
   "metadata": {
    "dc": {
     "key": "4"
    },
    "deletable": false,
    "editable": false,
    "run_control": {
     "frozen": true
    },
    "tags": [
     "context"
    ]
   },
   "source": [
    "## 1. Where are the old left-handed people?\n",
    "<p><img src=\"https://assets.datacamp.com/production/project_479/img/Obama_signs_health_care-20100323.jpg\" alt=\"Barack Obama signs the Patient Protection and Affordable Care Act at the White House, March 23, 2010\"></p>\n",
    "<p>Barack Obama is left-handed. So are Bill Gates and Oprah Winfrey; so were Babe Ruth and Marie Curie. A <a href=\"https://www.nejm.org/doi/full/10.1056/NEJM199104043241418\">1991 study</a> reported that left-handed people die on average nine years earlier than right-handed people. Nine years! Could this really be true? </p>\n",
    "<p>In this notebook, we will explore this phenomenon using age distribution data to see if we can reproduce a difference in average age at death purely from the changing rates of left-handedness over time, refuting the claim of early death for left-handers. This notebook uses <code>pandas</code> and Bayesian statistics to analyze the probability of being a certain age at death given that you are reported as left-handed or right-handed.</p>\n",
    "<p>A National Geographic survey in 1986 resulted in over a million responses that included age, sex, and hand preference for throwing and writing. Researchers Avery Gilbert and Charles Wysocki analyzed this data and noticed that rates of left-handedness were around 13% for people younger than 40 but decreased with age to about 5% by the age of 80. They concluded based on analysis of a subgroup of people who throw left-handed but write right-handed that this age-dependence was primarily due to changing social acceptability of left-handedness. This means that the rates aren't a factor of <em>age</em> specifically but rather of the <em>year you were born</em>, and if the same study was done today, we should expect a shifted version of the same distribution as a function of age. Ultimately, we'll see what effect this changing rate has on the apparent mean age of death of left-handed people, but let's start by plotting the rates of left-handedness as a function of age.</p>\n",
    "<p>This notebook uses two datasets: <a href=\"https://www.cdc.gov/nchs/data/statab/vs00199_table310.pdf\">death distribution data</a> for the United States from the year 1999 (source website <a href=\"https://www.cdc.gov/nchs/nvss/mortality_tables.htm\">here</a>) and rates of left-handedness digitized from a figure in this <a href=\"https://www.ncbi.nlm.nih.gov/pubmed/1528408\">1992 paper by Gilbert and Wysocki</a>. </p>"
   ]
  },
  {
   "cell_type": "code",
   "execution_count": 42,
   "metadata": {
    "dc": {
     "key": "4"
    },
    "scrolled": true,
    "tags": [
     "sample_code"
    ]
   },
   "outputs": [
    {
     "data": {
      "text/plain": [
       "Text(0,0.5,'Percentage of people who are left-handed')"
      ]
     },
     "execution_count": 42,
     "metadata": {},
     "output_type": "execute_result"
    },
    {
     "data": {
      "image/png": "[encoded data removed]",
      "text/plain": [
       "<Figure size 432x288 with 1 Axes>"
      ]
     },
     "metadata": {},
     "output_type": "display_data"
    }
   ],
   "source": [
    "# import libraries\n",
    "import pandas as pd\n",
    "import matplotlib.pyplot as plt\n",
    "\n",
    "# load the data\n",
    "data_url_1 = \"https://gist.githubusercontent.com/mbonsma/8da0990b71ba9a09f7de395574e54df1/raw/aec88b30af87fad8d45da7e774223f91dad09e88/lh_data.csv\"\n",
    "lefthanded_data = pd.read_csv(data_url_1, sep = ',')\n",
    "\n",
    "# plot male and female left-handedness rates vs. age\n",
    "%matplotlib inline\n",
    "fig, ax = plt.subplots() # create figure and axis objects\n",
    "ax.plot('Age', 'Female', data = lefthanded_data, marker='o') # plot \"Female\" vs. \"Age\"\n",
    "ax.plot('Age', 'Male', data = lefthanded_data, marker = 'x') # plot \"Male\" vs. \"Age\"\n",
    "ax.legend() # add a legend\n",
    "ax.set_xlabel(\"Age\")\n",
    "ax.set_ylabel(\"Percentage of people who are left-handed\")"
   ]
  },
  {
   "cell_type": "markdown",
   "metadata": {
    "dc": {
     "key": "11"
    },
    "deletable": false,
    "editable": false,
    "run_control": {
     "frozen": true
    },
    "tags": [
     "context"
    ]
   },
   "source": [
    "## 2. Rates of left-handedness over time\n",
    "<p>Let's convert this data into a plot of the rates of left-handedness as a function of the year of birth, and average over male and female to get a single rate for both sexes. </p>\n",
    "<p>Since the study was done in 1986, the data after this conversion will be the percentage of people alive in 1986 who are left-handed as a function of the year they were born. </p>"
   ]
  },
  {
   "cell_type": "code",
   "execution_count": 44,
   "metadata": {
    "dc": {
     "key": "11"
    }
   },
   "outputs": [
    {
     "data": {
      "text/html": [
       "<div>\n",
       "<style scoped>\n",
       "    .dataframe tbody tr th:only-of-type {\n",
       "        vertical-align: middle;\n",
       "    }\n",
       "\n",
       "    .dataframe tbody tr th {\n",
       "        vertical-align: top;\n",
       "    }\n",
       "\n",
       "    .dataframe thead th {\n",
       "        text-align: right;\n",
       "    }\n",
       "</style>\n",
       "<table border=\"1\" class=\"dataframe\">\n",
       "  <thead>\n",
       "    <tr style=\"text-align: right;\">\n",
       "      <th></th>\n",
       "      <th>Age</th>\n",
       "      <th>Male</th>\n",
       "      <th>Female</th>\n",
       "    </tr>\n",
       "  </thead>\n",
       "  <tbody>\n",
       "    <tr>\n",
       "      <th>0</th>\n",
       "      <td>10</td>\n",
       "      <td>12.717558</td>\n",
       "      <td>12.198041</td>\n",
       "    </tr>\n",
       "    <tr>\n",
       "      <th>1</th>\n",
       "      <td>11</td>\n",
       "      <td>15.318830</td>\n",
       "      <td>11.144804</td>\n",
       "    </tr>\n",
       "    <tr>\n",
       "      <th>2</th>\n",
       "      <td>12</td>\n",
       "      <td>14.808281</td>\n",
       "      <td>11.549240</td>\n",
       "    </tr>\n",
       "    <tr>\n",
       "      <th>3</th>\n",
       "      <td>13</td>\n",
       "      <td>13.793744</td>\n",
       "      <td>11.276442</td>\n",
       "    </tr>\n",
       "    <tr>\n",
       "      <th>4</th>\n",
       "      <td>14</td>\n",
       "      <td>15.156304</td>\n",
       "      <td>11.572906</td>\n",
       "    </tr>\n",
       "    <tr>\n",
       "      <th>5</th>\n",
       "      <td>15</td>\n",
       "      <td>14.086186</td>\n",
       "      <td>12.077731</td>\n",
       "    </tr>\n",
       "    <tr>\n",
       "      <th>6</th>\n",
       "      <td>16</td>\n",
       "      <td>14.148993</td>\n",
       "      <td>12.057432</td>\n",
       "    </tr>\n",
       "    <tr>\n",
       "      <th>7</th>\n",
       "      <td>17</td>\n",
       "      <td>14.522524</td>\n",
       "      <td>11.524442</td>\n",
       "    </tr>\n",
       "    <tr>\n",
       "      <th>8</th>\n",
       "      <td>18</td>\n",
       "      <td>14.727009</td>\n",
       "      <td>12.179550</td>\n",
       "    </tr>\n",
       "    <tr>\n",
       "      <th>9</th>\n",
       "      <td>19</td>\n",
       "      <td>15.069371</td>\n",
       "      <td>11.882904</td>\n",
       "    </tr>\n",
       "    <tr>\n",
       "      <th>10</th>\n",
       "      <td>20</td>\n",
       "      <td>15.546784</td>\n",
       "      <td>11.970606</td>\n",
       "    </tr>\n",
       "    <tr>\n",
       "      <th>11</th>\n",
       "      <td>21</td>\n",
       "      <td>15.355535</td>\n",
       "      <td>12.154899</td>\n",
       "    </tr>\n",
       "    <tr>\n",
       "      <th>12</th>\n",
       "      <td>22</td>\n",
       "      <td>13.931035</td>\n",
       "      <td>12.872166</td>\n",
       "    </tr>\n",
       "    <tr>\n",
       "      <th>13</th>\n",
       "      <td>23</td>\n",
       "      <td>14.758585</td>\n",
       "      <td>11.539937</td>\n",
       "    </tr>\n",
       "    <tr>\n",
       "      <th>14</th>\n",
       "      <td>24</td>\n",
       "      <td>14.405859</td>\n",
       "      <td>11.331448</td>\n",
       "    </tr>\n",
       "    <tr>\n",
       "      <th>15</th>\n",
       "      <td>25</td>\n",
       "      <td>13.757413</td>\n",
       "      <td>11.676748</td>\n",
       "    </tr>\n",
       "    <tr>\n",
       "      <th>16</th>\n",
       "      <td>26</td>\n",
       "      <td>13.554740</td>\n",
       "      <td>10.865891</td>\n",
       "    </tr>\n",
       "    <tr>\n",
       "      <th>17</th>\n",
       "      <td>27</td>\n",
       "      <td>14.206009</td>\n",
       "      <td>12.309402</td>\n",
       "    </tr>\n",
       "    <tr>\n",
       "      <th>18</th>\n",
       "      <td>28</td>\n",
       "      <td>14.433386</td>\n",
       "      <td>11.056588</td>\n",
       "    </tr>\n",
       "    <tr>\n",
       "      <th>19</th>\n",
       "      <td>29</td>\n",
       "      <td>14.236956</td>\n",
       "      <td>11.368353</td>\n",
       "    </tr>\n",
       "    <tr>\n",
       "      <th>20</th>\n",
       "      <td>30</td>\n",
       "      <td>14.579011</td>\n",
       "      <td>11.593085</td>\n",
       "    </tr>\n",
       "    <tr>\n",
       "      <th>21</th>\n",
       "      <td>31</td>\n",
       "      <td>14.209302</td>\n",
       "      <td>11.681973</td>\n",
       "    </tr>\n",
       "    <tr>\n",
       "      <th>22</th>\n",
       "      <td>32</td>\n",
       "      <td>14.835157</td>\n",
       "      <td>11.104371</td>\n",
       "    </tr>\n",
       "    <tr>\n",
       "      <th>23</th>\n",
       "      <td>33</td>\n",
       "      <td>13.868005</td>\n",
       "      <td>11.143795</td>\n",
       "    </tr>\n",
       "    <tr>\n",
       "      <th>24</th>\n",
       "      <td>34</td>\n",
       "      <td>14.697280</td>\n",
       "      <td>10.926177</td>\n",
       "    </tr>\n",
       "    <tr>\n",
       "      <th>25</th>\n",
       "      <td>35</td>\n",
       "      <td>14.418826</td>\n",
       "      <td>11.431546</td>\n",
       "    </tr>\n",
       "    <tr>\n",
       "      <th>26</th>\n",
       "      <td>36</td>\n",
       "      <td>14.932436</td>\n",
       "      <td>11.246990</td>\n",
       "    </tr>\n",
       "    <tr>\n",
       "      <th>27</th>\n",
       "      <td>37</td>\n",
       "      <td>14.643378</td>\n",
       "      <td>11.367447</td>\n",
       "    </tr>\n",
       "    <tr>\n",
       "      <th>28</th>\n",
       "      <td>38</td>\n",
       "      <td>14.087477</td>\n",
       "      <td>10.839030</td>\n",
       "    </tr>\n",
       "    <tr>\n",
       "      <th>29</th>\n",
       "      <td>39</td>\n",
       "      <td>14.300782</td>\n",
       "      <td>10.868420</td>\n",
       "    </tr>\n",
       "    <tr>\n",
       "      <th>...</th>\n",
       "      <td>...</td>\n",
       "      <td>...</td>\n",
       "      <td>...</td>\n",
       "    </tr>\n",
       "    <tr>\n",
       "      <th>47</th>\n",
       "      <td>57</td>\n",
       "      <td>11.909262</td>\n",
       "      <td>8.077697</td>\n",
       "    </tr>\n",
       "    <tr>\n",
       "      <th>48</th>\n",
       "      <td>58</td>\n",
       "      <td>10.618540</td>\n",
       "      <td>7.810595</td>\n",
       "    </tr>\n",
       "    <tr>\n",
       "      <th>49</th>\n",
       "      <td>59</td>\n",
       "      <td>10.166639</td>\n",
       "      <td>8.027137</td>\n",
       "    </tr>\n",
       "    <tr>\n",
       "      <th>50</th>\n",
       "      <td>60</td>\n",
       "      <td>9.878732</td>\n",
       "      <td>7.653338</td>\n",
       "    </tr>\n",
       "    <tr>\n",
       "      <th>51</th>\n",
       "      <td>61</td>\n",
       "      <td>9.894726</td>\n",
       "      <td>7.206744</td>\n",
       "    </tr>\n",
       "    <tr>\n",
       "      <th>52</th>\n",
       "      <td>62</td>\n",
       "      <td>9.247996</td>\n",
       "      <td>7.396092</td>\n",
       "    </tr>\n",
       "    <tr>\n",
       "      <th>53</th>\n",
       "      <td>63</td>\n",
       "      <td>8.600110</td>\n",
       "      <td>6.561303</td>\n",
       "    </tr>\n",
       "    <tr>\n",
       "      <th>54</th>\n",
       "      <td>64</td>\n",
       "      <td>8.290708</td>\n",
       "      <td>6.744014</td>\n",
       "    </tr>\n",
       "    <tr>\n",
       "      <th>55</th>\n",
       "      <td>65</td>\n",
       "      <td>8.562868</td>\n",
       "      <td>6.933382</td>\n",
       "    </tr>\n",
       "    <tr>\n",
       "      <th>56</th>\n",
       "      <td>66</td>\n",
       "      <td>8.769725</td>\n",
       "      <td>6.715994</td>\n",
       "    </tr>\n",
       "    <tr>\n",
       "      <th>57</th>\n",
       "      <td>67</td>\n",
       "      <td>8.575956</td>\n",
       "      <td>6.290775</td>\n",
       "    </tr>\n",
       "    <tr>\n",
       "      <th>58</th>\n",
       "      <td>68</td>\n",
       "      <td>8.074389</td>\n",
       "      <td>6.598822</td>\n",
       "    </tr>\n",
       "    <tr>\n",
       "      <th>59</th>\n",
       "      <td>69</td>\n",
       "      <td>8.541653</td>\n",
       "      <td>6.283988</td>\n",
       "    </tr>\n",
       "    <tr>\n",
       "      <th>60</th>\n",
       "      <td>70</td>\n",
       "      <td>7.926832</td>\n",
       "      <td>5.493000</td>\n",
       "    </tr>\n",
       "    <tr>\n",
       "      <th>61</th>\n",
       "      <td>71</td>\n",
       "      <td>8.365911</td>\n",
       "      <td>5.792567</td>\n",
       "    </tr>\n",
       "    <tr>\n",
       "      <th>62</th>\n",
       "      <td>72</td>\n",
       "      <td>7.559047</td>\n",
       "      <td>6.604398</td>\n",
       "    </tr>\n",
       "    <tr>\n",
       "      <th>63</th>\n",
       "      <td>73</td>\n",
       "      <td>7.470178</td>\n",
       "      <td>5.865391</td>\n",
       "    </tr>\n",
       "    <tr>\n",
       "      <th>64</th>\n",
       "      <td>74</td>\n",
       "      <td>7.081322</td>\n",
       "      <td>5.248952</td>\n",
       "    </tr>\n",
       "    <tr>\n",
       "      <th>65</th>\n",
       "      <td>75</td>\n",
       "      <td>8.253478</td>\n",
       "      <td>5.443444</td>\n",
       "    </tr>\n",
       "    <tr>\n",
       "      <th>66</th>\n",
       "      <td>76</td>\n",
       "      <td>8.769882</td>\n",
       "      <td>5.958591</td>\n",
       "    </tr>\n",
       "    <tr>\n",
       "      <th>67</th>\n",
       "      <td>77</td>\n",
       "      <td>5.397068</td>\n",
       "      <td>5.593611</td>\n",
       "    </tr>\n",
       "    <tr>\n",
       "      <th>68</th>\n",
       "      <td>78</td>\n",
       "      <td>6.937204</td>\n",
       "      <td>6.091359</td>\n",
       "    </tr>\n",
       "    <tr>\n",
       "      <th>69</th>\n",
       "      <td>79</td>\n",
       "      <td>4.885999</td>\n",
       "      <td>5.490092</td>\n",
       "    </tr>\n",
       "    <tr>\n",
       "      <th>70</th>\n",
       "      <td>80</td>\n",
       "      <td>6.939382</td>\n",
       "      <td>6.056423</td>\n",
       "    </tr>\n",
       "    <tr>\n",
       "      <th>71</th>\n",
       "      <td>81</td>\n",
       "      <td>7.188198</td>\n",
       "      <td>4.779491</td>\n",
       "    </tr>\n",
       "    <tr>\n",
       "      <th>72</th>\n",
       "      <td>82</td>\n",
       "      <td>7.350204</td>\n",
       "      <td>4.874899</td>\n",
       "    </tr>\n",
       "    <tr>\n",
       "      <th>73</th>\n",
       "      <td>83</td>\n",
       "      <td>6.471204</td>\n",
       "      <td>5.672536</td>\n",
       "    </tr>\n",
       "    <tr>\n",
       "      <th>74</th>\n",
       "      <td>84</td>\n",
       "      <td>6.510858</td>\n",
       "      <td>5.774881</td>\n",
       "    </tr>\n",
       "    <tr>\n",
       "      <th>75</th>\n",
       "      <td>85</td>\n",
       "      <td>7.337968</td>\n",
       "      <td>7.051459</td>\n",
       "    </tr>\n",
       "    <tr>\n",
       "      <th>76</th>\n",
       "      <td>86</td>\n",
       "      <td>5.059387</td>\n",
       "      <td>4.680948</td>\n",
       "    </tr>\n",
       "  </tbody>\n",
       "</table>\n",
       "<p>77 rows × 3 columns</p>\n",
       "</div>"
      ],
      "text/plain": [
       "    Age       Male     Female\n",
       "0    10  12.717558  12.198041\n",
       "1    11  15.318830  11.144804\n",
       "2    12  14.808281  11.549240\n",
       "3    13  13.793744  11.276442\n",
       "4    14  15.156304  11.572906\n",
       "5    15  14.086186  12.077731\n",
       "6    16  14.148993  12.057432\n",
       "7    17  14.522524  11.524442\n",
       "8    18  14.727009  12.179550\n",
       "9    19  15.069371  11.882904\n",
       "10   20  15.546784  11.970606\n",
       "11   21  15.355535  12.154899\n",
       "12   22  13.931035  12.872166\n",
       "13   23  14.758585  11.539937\n",
       "14   24  14.405859  11.331448\n",
       "15   25  13.757413  11.676748\n",
       "16   26  13.554740  10.865891\n",
       "17   27  14.206009  12.309402\n",
       "18   28  14.433386  11.056588\n",
       "19   29  14.236956  11.368353\n",
       "20   30  14.579011  11.593085\n",
       "21   31  14.209302  11.681973\n",
       "22   32  14.835157  11.104371\n",
       "23   33  13.868005  11.143795\n",
       "24   34  14.697280  10.926177\n",
       "25   35  14.418826  11.431546\n",
       "26   36  14.932436  11.246990\n",
       "27   37  14.643378  11.367447\n",
       "28   38  14.087477  10.839030\n",
       "29   39  14.300782  10.868420\n",
       "..  ...        ...        ...\n",
       "47   57  11.909262   8.077697\n",
       "48   58  10.618540   7.810595\n",
       "49   59  10.166639   8.027137\n",
       "50   60   9.878732   7.653338\n",
       "51   61   9.894726   7.206744\n",
       "52   62   9.247996   7.396092\n",
       "53   63   8.600110   6.561303\n",
       "54   64   8.290708   6.744014\n",
       "55   65   8.562868   6.933382\n",
       "56   66   8.769725   6.715994\n",
       "57   67   8.575956   6.290775\n",
       "58   68   8.074389   6.598822\n",
       "59   69   8.541653   6.283988\n",
       "60   70   7.926832   5.493000\n",
       "61   71   8.365911   5.792567\n",
       "62   72   7.559047   6.604398\n",
       "63   73   7.470178   5.865391\n",
       "64   74   7.081322   5.248952\n",
       "65   75   8.253478   5.443444\n",
       "66   76   8.769882   5.958591\n",
       "67   77   5.397068   5.593611\n",
       "68   78   6.937204   6.091359\n",
       "69   79   4.885999   5.490092\n",
       "70   80   6.939382   6.056423\n",
       "71   81   7.188198   4.779491\n",
       "72   82   7.350204   4.874899\n",
       "73   83   6.471204   5.672536\n",
       "74   84   6.510858   5.774881\n",
       "75   85   7.337968   7.051459\n",
       "76   86   5.059387   4.680948\n",
       "\n",
       "[77 rows x 3 columns]"
      ]
     },
     "execution_count": 44,
     "metadata": {},
     "output_type": "execute_result"
    }
   ],
   "source": [
    "lefthanded_data"
   ]
  },
  {
   "cell_type": "code",
   "execution_count": 45,
   "metadata": {
    "dc": {
     "key": "11"
    }
   },
   "outputs": [
    {
     "data": {
      "text/plain": [
       "0     1976\n",
       "1     1975\n",
       "2     1974\n",
       "3     1973\n",
       "4     1972\n",
       "5     1971\n",
       "6     1970\n",
       "7     1969\n",
       "8     1968\n",
       "9     1967\n",
       "10    1966\n",
       "11    1965\n",
       "12    1964\n",
       "13    1963\n",
       "14    1962\n",
       "15    1961\n",
       "16    1960\n",
       "17    1959\n",
       "18    1958\n",
       "19    1957\n",
       "20    1956\n",
       "21    1955\n",
       "22    1954\n",
       "23    1953\n",
       "24    1952\n",
       "25    1951\n",
       "26    1950\n",
       "27    1949\n",
       "28    1948\n",
       "29    1947\n",
       "      ... \n",
       "47    1929\n",
       "48    1928\n",
       "49    1927\n",
       "50    1926\n",
       "51    1925\n",
       "52    1924\n",
       "53    1923\n",
       "54    1922\n",
       "55    1921\n",
       "56    1920\n",
       "57    1919\n",
       "58    1918\n",
       "59    1917\n",
       "60    1916\n",
       "61    1915\n",
       "62    1914\n",
       "63    1913\n",
       "64    1912\n",
       "65    1911\n",
       "66    1910\n",
       "67    1909\n",
       "68    1908\n",
       "69    1907\n",
       "70    1906\n",
       "71    1905\n",
       "72    1904\n",
       "73    1903\n",
       "74    1902\n",
       "75    1901\n",
       "76    1900\n",
       "Name: Birth_year, Length: 77, dtype: int64"
      ]
     },
     "execution_count": 45,
     "metadata": {},
     "output_type": "execute_result"
    }
   ],
   "source": [
    "lefthanded_data['Birth_year']=1986-lefthanded_data['Age']\n",
    "lefthanded_data['Birth_year']"
   ]
  },
  {
   "cell_type": "code",
   "execution_count": 46,
   "metadata": {
    "dc": {
     "key": "11"
    },
    "tags": [
     "sample_code"
    ]
   },
   "outputs": [
    {
     "data": {
      "text/plain": [
       "Text(0,0.5,'Mean of lefthanded')"
      ]
     },
     "execution_count": 46,
     "metadata": {},
     "output_type": "execute_result"
    },
    {
     "data": {
      "image/png": "[encoded data removed]",
      "text/plain": [
       "<Figure size 432x288 with 1 Axes>"
      ]
     },
     "metadata": {},
     "output_type": "display_data"
    }
   ],
   "source": [
    "# create a new column for birth year of each age\n",
    "lefthanded_data['Birth_year']=1986-lefthanded_data['Age']\n",
    "\n",
    "# create a new column for the average of male and female\n",
    "lefthanded_data['Mean_lh']=lefthanded_data[['Male','Female']].mean(axis=1)\n",
    "\n",
    "# create a plot of the 'Mean_lh' column vs. 'Birth_year'\n",
    "fig, ax = plt.subplots()\n",
    "ax.plot('Birth_year', 'Mean_lh',  data=lefthanded_data) # plot 'Mean_lh' vs. 'Birth_year'\n",
    "ax.set_xlabel('Birth year') # set the x label for the plot\n",
    "ax.set_ylabel('Mean of lefthanded') # set the y label for the plot"
   ]
  },
  {
   "cell_type": "markdown",
   "metadata": {
    "dc": {
     "key": "18"
    },
    "deletable": false,
    "editable": false,
    "run_control": {
     "frozen": true
    },
    "tags": [
     "context"
    ]
   },
   "source": [
    "## 3. Applying Bayes' rule\n",
    "<p>The probability of dying at a certain age given that you're left-handed is <strong>not</strong> equal to the probability of being left-handed given that you died at a certain age. This inequality is why we need <strong>Bayes' theorem</strong>, a statement about conditional probability which allows us to update our beliefs after seeing evidence. </p>\n",
    "<p>We want to calculate the probability of dying at age A given that you're left-handed. Let's write this in shorthand as P(A | LH). We also want the same quantity for right-handers: P(A | RH). </p>\n",
    "<p>Here's Bayes' theorem for the two events we care about: left-handedness (LH) and dying at age A.</p>\n",
    "<p>$$P(A | LH) = \\frac{P(LH|A) P(A)}{P(LH)}$$</p>\n",
    "<p>P(LH | A) is the probability that you are left-handed <em>given that</em> you died at age A. P(A) is the overall probability of dying at age A, and P(LH) is the overall probability of being left-handed. We will now calculate each of these three quantities, beginning with P(LH | A).</p>\n",
    "<p>To calculate P(LH | A) for ages that might fall outside the original data, we will need to extrapolate the data to earlier and later years. Since the rates flatten out in the early 1900s and late 1900s, we'll use a few points at each end and take the mean to extrapolate the rates on each end. The number of points used for this is arbitrary, but we'll pick 10 since the data looks flat-ish until about 1910. </p>"
   ]
  },
  {
   "cell_type": "code",
   "execution_count": 48,
   "metadata": {
    "collapsed": true,
    "dc": {
     "key": "18"
    },
    "tags": [
     "sample_code"
    ]
   },
   "outputs": [],
   "source": [
    "# import library\n",
    "import numpy as np\n",
    "\n",
    "# create a function for P(LH | A)\n",
    "def P_lh_given_A(ages_of_death, study_year = 1990):\n",
    "    \"\"\" P(Left-handed | ages of death), calculated based on the reported rates of left-handedness.\n",
    "    Inputs: numpy array of ages of death, study_year\n",
    "    Returns: probability of left-handedness given that subjects died in `study_year` at ages `ages_of_death` \"\"\"\n",
    "    \n",
    "    # Use the mean of the 10 last and 10 first points for left-handedness rates before and after the start \n",
    "    early_1900s_rate = lefthanded_data['Mean_lh'][-10:].mean() \n",
    "    late_1900s_rate = lefthanded_data['Mean_lh'][:10].mean()\n",
    "    middle_rates = lefthanded_data.loc[lefthanded_data['Birth_year'].isin(study_year - ages_of_death)]['Mean_lh']\n",
    "    youngest_age = study_year - 1986 + 10 # the youngest age is 10\n",
    "    oldest_age = study_year - 1986 + 86 # the oldest age is 86\n",
    "    \n",
    "    P_return = np.zeros(ages_of_death.shape) # create an empty array to store the results\n",
    "    # extract rate of left-handedness for people of ages 'ages_of_death'\n",
    "    P_return[ages_of_death > oldest_age] = early_1900s_rate/100\n",
    "    P_return[ages_of_death < youngest_age] = late_1900s_rate/100\n",
    "    P_return[np.logical_and((ages_of_death <= oldest_age), (ages_of_death >= youngest_age))] = middle_rates / 100\n",
    "    \n",
    "    return P_return"
   ]
  },
  {
   "cell_type": "code",
   "execution_count": null,
   "metadata": {
    "collapsed": true,
    "dc": {
     "key": "18"
    }
   },
   "outputs": [],
   "source": []
  },
  {
   "cell_type": "markdown",
   "metadata": {
    "dc": {
     "key": "25"
    },
    "deletable": false,
    "editable": false,
    "run_control": {
     "frozen": true
    },
    "tags": [
     "context"
    ]
   },
   "source": [
    "## 4. When do people normally die?\n",
    "<p>To estimate the probability of living to an age A, we can use data that gives the number of people who died in a given year and how old they were to create a distribution of ages of death. If we normalize the numbers to the total number of people who died, we can think of this data as a probability distribution that gives the probability of dying at age A. The data we'll use for this is from the entire US for the year 1999 - the closest I could find for the time range we're interested in. </p>\n",
    "<p>In this block, we'll load in the death distribution data and plot it. The first column is the age, and the other columns are the number of people who died at that age. </p>"
   ]
  },
  {
   "cell_type": "code",
   "execution_count": 50,
   "metadata": {
    "dc": {
     "key": "25"
    },
    "tags": [
     "sample_code"
    ]
   },
   "outputs": [
    {
     "data": {
      "text/plain": [
       "Text(0,0.5,'Both Sexes')"
      ]
     },
     "execution_count": 50,
     "metadata": {},
     "output_type": "execute_result"
    },
    {
     "data": {
      "image/png": "[encoded data removed]",
      "text/plain": [
       "<Figure size 432x288 with 1 Axes>"
      ]
     },
     "metadata": {},
     "output_type": "display_data"
    }
   ],
   "source": [
    "# Death distribution data for the United States in 1999\n",
    "data_url_2 = \"https://gist.githubusercontent.com/mbonsma/2f4076aab6820ca1807f4e29f75f18ec/raw/62f3ec07514c7e31f5979beeca86f19991540796/cdc_vs00199_table310.tsv\"\n",
    "\n",
    "# load death distribution data\n",
    "death_distribution_data=pd.read_csv(data_url_2, sep='\\t', skiprows=[1])\n",
    "\n",
    "# drop NaN values from the `Both Sexes` column\n",
    "death_distribution_data=death_distribution_data.dropna(subset=['Both Sexes'])\n",
    "\n",
    "# plot number of people who died as a function of age\n",
    "fig, ax = plt.subplots()\n",
    "ax.plot('Age', 'Both Sexes', data = death_distribution_data, marker='o') # plot 'Both Sexes' vs. 'Age'\n",
    "ax.set_xlabel('Age') \n",
    "ax.set_ylabel('Both Sexes')"
   ]
  },
  {
   "cell_type": "code",
   "execution_count": 51,
   "metadata": {
    "dc": {
     "key": "25"
    }
   },
   "outputs": [
    {
     "data": {
      "text/plain": [
       "120"
      ]
     },
     "execution_count": 51,
     "metadata": {},
     "output_type": "execute_result"
    }
   ],
   "source": [
    "death_distribution_data['Both Sexes'].count()"
   ]
  },
  {
   "cell_type": "markdown",
   "metadata": {
    "dc": {
     "key": "32"
    },
    "deletable": false,
    "editable": false,
    "run_control": {
     "frozen": true
    },
    "tags": [
     "context"
    ]
   },
   "source": [
    "## 5. The overall probability of left-handedness\n",
    "<p>In the previous code block we loaded data to give us P(A), and now we need P(LH). P(LH) is the probability that a person who died in our particular study year is left-handed, assuming we know nothing else about them. This is the average left-handedness in the population of deceased people, and we can calculate it by summing up all of the left-handedness probabilities for each age, weighted with the number of deceased people at each age, then divided by the total number of deceased people to get a probability. In equation form, this is what we're calculating, where N(A) is the number of people who died at age A (given by the dataframe <code>death_distribution_data</code>):</p>\n",
    "<p><img src=\"https://i.imgur.com/gBIWykY.png\" alt=\"equation\" width=\"220\"></p>\n",
    "<!--- $$P(LH) = \\frac{\\sum_{\\text{A}} P(LH | A) N(A)}{\\sum_{\\text{A}} N(A)}$$ -->"
   ]
  },
  {
   "cell_type": "code",
   "execution_count": 53,
   "metadata": {
    "dc": {
     "key": "32"
    },
    "tags": [
     "sample_code"
    ]
   },
   "outputs": [
    {
     "name": "stdout",
     "output_type": "stream",
     "text": [
      "0.07766387615350638\n"
     ]
    }
   ],
   "source": [
    "def P_lh(death_distribution_data, study_year = 1990): # sum over P_lh for each age group\n",
    "    \"\"\" Overall probability of being left-handed if you died in the study year\n",
    "    Input: dataframe of death distribution data, study year\n",
    "    Output: P(LH), a single floating point number \"\"\"\n",
    "    p_list = death_distribution_data['Both Sexes'] * P_lh_given_A(death_distribution_data['Age'], study_year) # multiply number of dead people by P_lh_given_A\n",
    "    p = np.sum(p_list) # calculate the sum of p_list\n",
    "    return p / np.sum(death_distribution_data['Both Sexes']) # normalize to total number of people (sum of death_distribution_data['Both Sexes'])\n",
    "\n",
    "print(P_lh(death_distribution_data))"
   ]
  },
  {
   "cell_type": "markdown",
   "metadata": {
    "dc": {
     "key": "39"
    },
    "deletable": false,
    "editable": false,
    "run_control": {
     "frozen": true
    },
    "tags": [
     "context"
    ]
   },
   "source": [
    "## 6. Putting it all together: dying while left-handed (i)\n",
    "<p>Now we have the means of calculating all three quantities we need: P(A), P(LH), and P(LH | A). We can combine all three using Bayes' rule to get P(A | LH), the probability of being age A at death (in the study year) given that you're left-handed. To make this answer meaningful, though, we also want to compare it to P(A | RH), the probability of being age A at death given that you're right-handed. </p>\n",
    "<p>We're calculating the following quantity twice, once for left-handers and once for right-handers.</p>\n",
    "<p>$$P(A | LH) = \\frac{P(LH|A) P(A)}{P(LH)}$$</p>\n",
    "<p>First, for left-handers.</p>\n",
    "<!--Notice that I was careful not to call these \"probability of dying at age A\", since that's not actually what we're calculating: we use the exact same death distribution data for each. -->"
   ]
  },
  {
   "cell_type": "code",
   "execution_count": 55,
   "metadata": {
    "dc": {
     "key": "39"
    },
    "tags": [
     "sample_code"
    ]
   },
   "outputs": [],
   "source": [
    "def P_A_given_lh(ages_of_death, death_distribution_data, study_year = 1990):\n",
    "    \"\"\" The overall probability of being a particular `age_of_death` given that you're left-handed \"\"\"\n",
    "    P_A = death_distribution_data['Both Sexes'][ages_of_death] / np.sum(death_distribution_data['Both Sexes'])\n",
    "    P_left = P_lh(death_distribution_data, study_year) # use P_lh function to get probability of left-handedness overall\n",
    "    P_lh_A = P_lh_given_A(ages_of_death, study_year) # use P_lh_given_A to get probability of left-handedness for a certain age\n",
    "    return P_lh_A*P_A/P_left"
   ]
  },
  {
   "cell_type": "markdown",
   "metadata": {
    "dc": {
     "key": "46"
    },
    "deletable": false,
    "editable": false,
    "run_control": {
     "frozen": true
    },
    "tags": [
     "context"
    ]
   },
   "source": [
    "## 7. Putting it all together: dying while left-handed (ii)\n",
    "<p>And now for right-handers.</p>"
   ]
  },
  {
   "cell_type": "code",
   "execution_count": 57,
   "metadata": {
    "collapsed": true,
    "dc": {
     "key": "46"
    },
    "tags": [
     "sample_code"
    ]
   },
   "outputs": [],
   "source": [
    "def P_A_given_rh(ages_of_death, death_distribution_data, study_year = 1990):\n",
    "    \"\"\" The overall probability of being a particular `age_of_death` given that you're right-handed \"\"\"\n",
    "    P_A = death_distribution_data['Both Sexes'][ages_of_death] / np.sum(death_distribution_data['Both Sexes'])\n",
    "    P_right = 1 - P_lh(death_distribution_data, study_year) # either you're left-handed or right-handed, so P_right = 1 - P_left\n",
    "    P_rh_A = 1 - P_lh_given_A(ages_of_death, study_year) # P_rh_A = 1 - P_lh_A \n",
    "    return P_rh_A*P_A/P_right"
   ]
  },
  {
   "cell_type": "markdown",
   "metadata": {
    "dc": {
     "key": "53"
    },
    "deletable": false,
    "editable": false,
    "run_control": {
     "frozen": true
    },
    "tags": [
     "context"
    ]
   },
   "source": [
    "## 8. Plotting the distributions of conditional probabilities\n",
    "<p>Now that we have functions to calculate the probability of being age A at death given that you're left-handed or right-handed, let's plot these probabilities for a range of ages of death from 6 to 120. </p>\n",
    "<p>Notice that the left-handed distribution has a bump below age 70: of the pool of deceased people, left-handed people are more likely to be younger. </p>"
   ]
  },
  {
   "cell_type": "code",
   "execution_count": 59,
   "metadata": {
    "dc": {
     "key": "53"
    },
    "tags": [
     "sample_code"
    ]
   },
   "outputs": [
    {
     "data": {
      "text/plain": [
       "Text(0,0.5,'Probability of being age A at death')"
      ]
     },
     "execution_count": 59,
     "metadata": {},
     "output_type": "execute_result"
    },
    {
     "data": {
      "image/png": "[encoded data removed]",
      "text/plain": [
       "<Figure size 432x288 with 1 Axes>"
      ]
     },
     "metadata": {},
     "output_type": "display_data"
    }
   ],
   "source": [
    "ages = np.arange(6, 115, 1) # make a list of ages of death to plot\n",
    "\n",
    "# calculate the probability of being left- or right-handed for each \n",
    "left_handed_probability = P_A_given_lh(ages, death_distribution_data)\n",
    "right_handed_probability = P_A_given_rh(ages, death_distribution_data)\n",
    "\n",
    "# create a plot of the two probabilities vs. age\n",
    "fig, ax = plt.subplots() # create figure and axis objects\n",
    "ax.plot(ages, left_handed_probability, label = \"Left-handed\")\n",
    "ax.plot(ages, right_handed_probability, label = 'Right-handed')\n",
    "ax.legend() # add a legend\n",
    "ax.set_xlabel(\"Age at death\")\n",
    "ax.set_ylabel(r\"Probability of being age A at death\")"
   ]
  },
  {
   "cell_type": "markdown",
   "metadata": {
    "dc": {
     "key": "60"
    },
    "deletable": false,
    "editable": false,
    "run_control": {
     "frozen": true
    },
    "tags": [
     "context"
    ]
   },
   "source": [
    "## 9. Moment of truth: age of left and right-handers at death\n",
    "<p>Finally, let's compare our results with the original study that found that left-handed people were nine years younger at death on average. We can do this by calculating the mean of these probability distributions in the same way we calculated P(LH) earlier, weighting the probability distribution by age and summing over the result.</p>\n",
    "<p>$$\\text{Average age of left-handed people at death} = \\sum_A A P(A | LH)$$</p>\n",
    "<p>$$\\text{Average age of right-handed people at death} = \\sum_A A P(A | RH)$$</p>"
   ]
  },
  {
   "cell_type": "code",
   "execution_count": 61,
   "metadata": {
    "dc": {
     "key": "60"
    },
    "tags": [
     "sample_code"
    ]
   },
   "outputs": [
    {
     "name": "stdout",
     "output_type": "stream",
     "text": [
      "Average age of lefthanded: 67.24503662801027\n",
      "Average age of righthanded: 72.79171936526477\n",
      "The difference in average ages is 5.5 years.\n"
     ]
    }
   ],
   "source": [
    "# calculate average ages for left-handed and right-handed groups\n",
    "# use np.array so that two arrays can be multiplied\n",
    "average_lh_age =  np.nansum(ages*np.array(left_handed_probability))\n",
    "average_rh_age =  np.nansum(ages*np.array(right_handed_probability))\n",
    "\n",
    "# print the average ages for each group\n",
    "# ... YOUR CODE FOR TASK 9 ...\n",
    "print(\"Average age of lefthanded: \" + str(average_lh_age))\n",
    "print(\"Average age of righthanded: \" + str(average_rh_age))\n",
    "\n",
    "# print the difference between the average ages\n",
    "print(\"The difference in average ages is \" + str(round(average_rh_age - average_lh_age, 1)) + \" years.\")"
   ]
  },
  {
   "cell_type": "markdown",
   "metadata": {
    "dc": {
     "key": "67"
    },
    "deletable": false,
    "editable": false,
    "run_control": {
     "frozen": true
    },
    "tags": [
     "context"
    ]
   },
   "source": [
    "## 10. Final comments\n",
    "<p>We got a pretty big age gap between left-handed and right-handed people purely as a result of the changing rates of left-handedness in the population, which is good news for left-handers: you probably won't die young because of your sinisterness. The reported rates of left-handedness have increased from just 3% in the early 1900s to about 11% today, which means that older people are much more likely to be reported as right-handed than left-handed, and so looking at a sample of recently deceased people will have more old right-handers.</p>\n",
    "<p>Our number is still less than the 9-year gap measured in the study. It's possible that some of the approximations we made are the cause: </p>\n",
    "<ol>\n",
    "<li>We used death distribution data from almost ten years after the study (1999 instead of 1991), and we used death data from the entire United States instead of California alone (which was the original study). </li>\n",
    "<li>We extrapolated the left-handedness survey results to older and younger age groups, but it's possible our extrapolation wasn't close enough to the true rates for those ages. </li>\n",
    "</ol>\n",
    "<p>One thing we could do next is figure out how much variability we would expect to encounter in the age difference purely because of random sampling: if you take a smaller sample of recently deceased people and assign handedness with the probabilities of the survey, what does that distribution look like? How often would we encounter an age gap of nine years using the same data and assumptions? We won't do that here, but it's possible with this data and the tools of random sampling. </p>\n",
    "<!-- I did do this if we want to add more tasks - it would probably take three more blocks.-->\n",
    "<p>To finish off, let's calculate the age gap we'd expect if we did the study in 2018 instead of in 1990. The gap turns out to be much smaller since rates of left-handedness haven't increased for people born after about 1960. Both the National Geographic study and the 1990 study happened at a unique time - the rates of left-handedness had been changing across the lifetimes of most people alive, and the difference in handedness between old and young was at its most striking. </p>"
   ]
  },
  {
   "cell_type": "markdown",
   "metadata": {},
   "source": [
    "## 10. Final comments\n",
    "The difference in age between left-handed and right-handed individuals can be attributed to the changing rates of left-handedness over time. Fortunately for left-handers, the increasing prevalence of left-handedness means that they are no longer at a higher risk of premature death. However, since reported rates of left-handedness have risen from 3% to 11%, older individuals are more likely to be right-handed. As a result, when examining a sample of recently deceased individuals, there will be a higher proportion of right-handers.\n",
    "\n",
    "While our calculations show a smaller age gap than the nine-year gap in the original study, there are potential sources of error. For example, we used data from a different year and from a larger population. Furthermore, our extrapolation of left-handedness rates may not have been accurate for all age groups. To determine the degree of variability in the age difference due to random sampling, we could conduct a smaller study using the same assumptions and statistical tools.\n",
    "\n",
    "In contrast to the unique circumstances of the National Geographic study and the 1990 study, a more recent study conducted in 2018 would likely yield a smaller age gap since rates of left-handedness have stabilized for individuals born after 1960."
   ]
  },
  {
   "cell_type": "code",
   "execution_count": 63,
   "metadata": {
    "dc": {
     "key": "67"
    },
    "tags": [
     "sample_code"
    ]
   },
   "outputs": [
    {
     "name": "stdout",
     "output_type": "stream",
     "text": [
      "The difference in average ages is 2.3 years.\n"
     ]
    }
   ],
   "source": [
    "# Calculate the probability of being left- or right-handed for all ages\n",
    "left_handed_probability_2018 = P_A_given_lh(ages, death_distribution_data, 2018)\n",
    "right_handed_probability_2018 = P_A_given_rh(ages, death_distribution_data, 2018)\n",
    "\n",
    "# calculate average ages for left-handed and right-handed groups\n",
    "average_lh_age_2018 = np.nansum(ages*np.array(left_handed_probability_2018))\n",
    "average_rh_age_2018 = np.nansum(ages*np.array(right_handed_probability_2018))\n",
    "\n",
    "print(\"The difference in average ages is \" + \n",
    "      str(round(average_rh_age_2018 - average_lh_age_2018, 1)) + \" years.\")"
   ]
  }
 ],
 "metadata": {
  "kernelspec": {
   "display_name": "Python 3 (ipykernel)",
   "language": "python",
   "name": "python3"
  },
  "language_info": {
   "codemirror_mode": {
    "name": "ipython",
    "version": 3
   },
   "file_extension": ".py",
   "mimetype": "text/x-python",
   "name": "python",
   "nbconvert_exporter": "python",
   "pygments_lexer": "ipython3",
   "version": "3.9.13"
  }
 },
 "nbformat": 4,
 "nbformat_minor": 2
}
